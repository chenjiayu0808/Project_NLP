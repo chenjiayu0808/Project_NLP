{
 "cells": [
  {
   "cell_type": "markdown",
   "metadata": {},
   "source": [
    "# Analyzing customer support on Twitter\n",
    "### Author: Qian Li\n",
    "\n",
    "### Data problem:\n",
    "Kaggle has customer support conversation dataset which includes 3 million tweets and can be accessed here (https://www.kaggle.com/thoughtvector/customer-support-on-twitter). The purpose of the project is to understand what questions customers and ask and how to respond to them.\n",
    "\n",
    "#### I put together a data dictionary here:\n",
    "- tweet_id: id of each tweet\n",
    "- author_id: id of author\n",
    "- inbound: True if it was tweeted to companies by customers and False the other way round\n",
    "- created_at: tweet created time\n",
    "- text: content of the tweet\n",
    "- in_response_to_tweet_id: If this tweet was responding to a previous tweet, then the value is the id of previous tweet, otherwise, NaN\n",
    "- response_tweet_id: If this tweet was responded by a later tweet, then the value is the id of replying tweet, otherwise, NaN\n",
    "\n",
    "\n",
    "### Data cleaning and reshaping\n",
    "Columns such inbound and in_response_to_tweet_id helps us to identify questions and answers. As the conversations can go through several rounds of tweets, only first question/comment and response pairs will be pulled out to analysis. \n",
    "\n",
    "### 1. Some visualizations\n",
    "Including tweets count and sentiment analysis on @AmazonHelp channel, compared with @AppleSupport.\n",
    "\n",
    "### 2. Comparison between results of different Topic Modeling methods (NMF and LDA) \n",
    "Topic modeling is only done on @AmazonHelp channel.\n",
    "\n",
    "NMF overperforms LDA in analyzing tweets and I summerized the top 10 topics in tweets going to AmazonHelp.\n",
    "\n",
    "### 3. Prediting a response for a user's initial question/comment (seq2seq)\n",
    "on all channels."
   ]
  },
  {
   "cell_type": "markdown",
   "metadata": {},
   "source": [
    "### Loading libraries"
   ]
  },
  {
   "cell_type": "code",
   "execution_count": 304,
   "metadata": {},
   "outputs": [],
   "source": [
    "import re\n",
    "import string\n",
    "import random\n",
    "import time\n",
    "import pandas as pd\n",
    "import nltk\n",
    "import numpy as np\n",
    "import enchant\n",
    "\n",
    "from sklearn.feature_extraction.text import CountVectorizer\n",
    "from sklearn.feature_extraction import stop_words\n",
    "import sklearn.feature_extraction.text as text\n",
    "\n",
    "from nltk.tokenize import casual_tokenize\n",
    "from textblob import TextBlob\n",
    "from vaderSentiment.vaderSentiment import SentimentIntensityAnalyzer\n",
    "\n",
    "import matplotlib.pyplot as plt"
   ]
  },
  {
   "cell_type": "markdown",
   "metadata": {},
   "source": [
    "### Loading Data"
   ]
  },
  {
   "cell_type": "code",
   "execution_count": 480,
   "metadata": {},
   "outputs": [
    {
     "data": {
      "text/html": [
       "<div>\n",
       "<style scoped>\n",
       "    .dataframe tbody tr th:only-of-type {\n",
       "        vertical-align: middle;\n",
       "    }\n",
       "\n",
       "    .dataframe tbody tr th {\n",
       "        vertical-align: top;\n",
       "    }\n",
       "\n",
       "    .dataframe thead th {\n",
       "        text-align: right;\n",
       "    }\n",
       "</style>\n",
       "<table border=\"1\" class=\"dataframe\">\n",
       "  <thead>\n",
       "    <tr style=\"text-align: right;\">\n",
       "      <th></th>\n",
       "      <th>tweet_id</th>\n",
       "      <th>author_id</th>\n",
       "      <th>inbound</th>\n",
       "      <th>created_at</th>\n",
       "      <th>text</th>\n",
       "      <th>response_tweet_id</th>\n",
       "      <th>in_response_to_tweet_id</th>\n",
       "    </tr>\n",
       "  </thead>\n",
       "  <tbody>\n",
       "    <tr>\n",
       "      <th>0</th>\n",
       "      <td>1</td>\n",
       "      <td>sprintcare</td>\n",
       "      <td>False</td>\n",
       "      <td>Tue Oct 31 22:10:47 +0000 2017</td>\n",
       "      <td>@115712 I understand. I would like to assist y...</td>\n",
       "      <td>2</td>\n",
       "      <td>3.0</td>\n",
       "    </tr>\n",
       "    <tr>\n",
       "      <th>1</th>\n",
       "      <td>2</td>\n",
       "      <td>115712</td>\n",
       "      <td>True</td>\n",
       "      <td>Tue Oct 31 22:11:45 +0000 2017</td>\n",
       "      <td>@sprintcare and how do you propose we do that</td>\n",
       "      <td>NaN</td>\n",
       "      <td>1.0</td>\n",
       "    </tr>\n",
       "    <tr>\n",
       "      <th>2</th>\n",
       "      <td>3</td>\n",
       "      <td>115712</td>\n",
       "      <td>True</td>\n",
       "      <td>Tue Oct 31 22:08:27 +0000 2017</td>\n",
       "      <td>@sprintcare I have sent several private messag...</td>\n",
       "      <td>1</td>\n",
       "      <td>4.0</td>\n",
       "    </tr>\n",
       "    <tr>\n",
       "      <th>3</th>\n",
       "      <td>4</td>\n",
       "      <td>sprintcare</td>\n",
       "      <td>False</td>\n",
       "      <td>Tue Oct 31 21:54:49 +0000 2017</td>\n",
       "      <td>@115712 Please send us a Private Message so th...</td>\n",
       "      <td>3</td>\n",
       "      <td>5.0</td>\n",
       "    </tr>\n",
       "    <tr>\n",
       "      <th>4</th>\n",
       "      <td>5</td>\n",
       "      <td>115712</td>\n",
       "      <td>True</td>\n",
       "      <td>Tue Oct 31 21:49:35 +0000 2017</td>\n",
       "      <td>@sprintcare I did.</td>\n",
       "      <td>4</td>\n",
       "      <td>6.0</td>\n",
       "    </tr>\n",
       "  </tbody>\n",
       "</table>\n",
       "</div>"
      ],
      "text/plain": [
       "   tweet_id   author_id  inbound                      created_at  \\\n",
       "0         1  sprintcare    False  Tue Oct 31 22:10:47 +0000 2017   \n",
       "1         2      115712     True  Tue Oct 31 22:11:45 +0000 2017   \n",
       "2         3      115712     True  Tue Oct 31 22:08:27 +0000 2017   \n",
       "3         4  sprintcare    False  Tue Oct 31 21:54:49 +0000 2017   \n",
       "4         5      115712     True  Tue Oct 31 21:49:35 +0000 2017   \n",
       "\n",
       "                                                text response_tweet_id  \\\n",
       "0  @115712 I understand. I would like to assist y...                 2   \n",
       "1      @sprintcare and how do you propose we do that               NaN   \n",
       "2  @sprintcare I have sent several private messag...                 1   \n",
       "3  @115712 Please send us a Private Message so th...                 3   \n",
       "4                                 @sprintcare I did.                 4   \n",
       "\n",
       "   in_response_to_tweet_id  \n",
       "0                      3.0  \n",
       "1                      1.0  \n",
       "2                      4.0  \n",
       "3                      5.0  \n",
       "4                      6.0  "
      ]
     },
     "execution_count": 480,
     "metadata": {},
     "output_type": "execute_result"
    }
   ],
   "source": [
    "tweets = pd.read_csv('data/twcs.csv')\n",
    "tweets.head()"
   ]
  },
  {
   "cell_type": "code",
   "execution_count": 470,
   "metadata": {},
   "outputs": [
    {
     "data": {
      "text/plain": [
       "tweet_id                     int64\n",
       "author_id                   object\n",
       "inbound                       bool\n",
       "created_at                  object\n",
       "text                        object\n",
       "response_tweet_id           object\n",
       "in_response_to_tweet_id    float64\n",
       "dtype: object"
      ]
     },
     "execution_count": 470,
     "metadata": {},
     "output_type": "execute_result"
    }
   ],
   "source": [
    "tweets.dtypes"
   ]
  },
  {
   "cell_type": "code",
   "execution_count": 466,
   "metadata": {},
   "outputs": [
    {
     "data": {
      "text/plain": [
       "(2811774, 7)"
      ]
     },
     "execution_count": 466,
     "metadata": {},
     "output_type": "execute_result"
    }
   ],
   "source": [
    "tweets.shape"
   ]
  },
  {
   "cell_type": "code",
   "execution_count": 467,
   "metadata": {},
   "outputs": [
    {
     "data": {
      "text/plain": [
       "True     1537843\n",
       "False    1273931\n",
       "Name: inbound, dtype: int64"
      ]
     },
     "execution_count": 467,
     "metadata": {},
     "output_type": "execute_result"
    }
   ],
   "source": [
    "tweets.inbound.value_counts()"
   ]
  },
  {
   "cell_type": "code",
   "execution_count": 468,
   "metadata": {},
   "outputs": [
    {
     "data": {
      "text/plain": [
       "('Fri Apr 01 17:37:48 +0000 2016', 'Wed Sep 28 18:06:15 +0000 2016')"
      ]
     },
     "execution_count": 468,
     "metadata": {},
     "output_type": "execute_result"
    }
   ],
   "source": [
    "tweets.created_at.min(), tweets.created_at.max()"
   ]
  },
  {
   "cell_type": "markdown",
   "metadata": {},
   "source": [
    "# 1. Some Visualizations - Tweet counts by brand"
   ]
  },
  {
   "cell_type": "code",
   "execution_count": 414,
   "metadata": {},
   "outputs": [],
   "source": [
    "tweet_to_company = tweets.text.apply(lambda txt: re.search('(\\W@|^@)([a-zA-Z_]+)', txt).group().strip() \n",
    "                                    if re.search('(\\W@|^@)([a-zA-Z_]+)', txt) else None)\n",
    "tweet_by_brand = tweet_to_company.value_counts().head(10)"
   ]
  },
  {
   "cell_type": "code",
   "execution_count": 464,
   "metadata": {},
   "outputs": [
    {
     "data": {
      "image/png": "[encoded data removed]",
      "text/plain": [
       "<Figure size 648x288 with 1 Axes>"
      ]
     },
     "metadata": {},
     "output_type": "display_data"
    }
   ],
   "source": [
    "tweet_by_brand.plot('barh',figsize = (9,4),fontsize = 12)\n",
    "plt.xlabel('Number of tweets',fontsize = 15)\n",
    "plt.ylabel('Brand tweet ID',fontsize = 15)\n",
    "plt.title('Number of total tweets @ some big brands', fontsize = 15);"
   ]
  },
  {
   "cell_type": "markdown",
   "metadata": {},
   "source": [
    "### Reshaping to initial question and reponse pairs"
   ]
  },
  {
   "cell_type": "code",
   "execution_count": 9,
   "metadata": {},
   "outputs": [],
   "source": [
    "# find the initial question/comment to the companies\n",
    "first_inbound = tweets[pd.isnull(tweets.in_response_to_tweet_id) & tweets.inbound]\n",
    "\n",
    "# join initial question with its response\n",
    "inbounds_and_outbounds = pd.merge(first_inbound, tweets, left_on='tweet_id', \n",
    "                                  right_on='in_response_to_tweet_id').sample(frac=1)\n",
    "inbounds_and_outbounds = inbounds_and_outbounds[inbounds_and_outbounds.inbound_y ^ True]"
   ]
  },
  {
   "cell_type": "code",
   "execution_count": 10,
   "metadata": {},
   "outputs": [],
   "source": [
    "inbounds_and_outbounds.to_csv(\"data/inbounds_and_outbounds.csv\")"
   ]
  },
  {
   "cell_type": "code",
   "execution_count": 5,
   "metadata": {},
   "outputs": [
    {
     "data": {
      "text/plain": [
       "(794299, 14)"
      ]
     },
     "execution_count": 5,
     "metadata": {},
     "output_type": "execute_result"
    }
   ],
   "source": [
    "inbounds_and_outbounds.shape"
   ]
  },
  {
   "cell_type": "code",
   "execution_count": 322,
   "metadata": {},
   "outputs": [
    {
     "data": {
      "text/html": [
       "<div>\n",
       "<style scoped>\n",
       "    .dataframe tbody tr th:only-of-type {\n",
       "        vertical-align: middle;\n",
       "    }\n",
       "\n",
       "    .dataframe tbody tr th {\n",
       "        vertical-align: top;\n",
       "    }\n",
       "\n",
       "    .dataframe thead th {\n",
       "        text-align: right;\n",
       "    }\n",
       "</style>\n",
       "<table border=\"1\" class=\"dataframe\">\n",
       "  <thead>\n",
       "    <tr style=\"text-align: right;\">\n",
       "      <th></th>\n",
       "      <th>tweet_id_x</th>\n",
       "      <th>author_id_x</th>\n",
       "      <th>inbound_x</th>\n",
       "      <th>created_at_x</th>\n",
       "      <th>text_x</th>\n",
       "      <th>response_tweet_id_x</th>\n",
       "      <th>in_response_to_tweet_id_x</th>\n",
       "      <th>tweet_id_y</th>\n",
       "      <th>author_id_y</th>\n",
       "      <th>inbound_y</th>\n",
       "      <th>created_at_y</th>\n",
       "      <th>text_y</th>\n",
       "      <th>response_tweet_id_y</th>\n",
       "      <th>in_response_to_tweet_id_y</th>\n",
       "    </tr>\n",
       "  </thead>\n",
       "  <tbody>\n",
       "    <tr>\n",
       "      <th>130277</th>\n",
       "      <td>497044</td>\n",
       "      <td>233605</td>\n",
       "      <td>True</td>\n",
       "      <td>Fri Dec 01 15:13:46 +0000 2017</td>\n",
       "      <td>@XboxSupport hello please help</td>\n",
       "      <td>497043,497045</td>\n",
       "      <td>NaN</td>\n",
       "      <td>497043</td>\n",
       "      <td>XboxSupport</td>\n",
       "      <td>False</td>\n",
       "      <td>Fri Dec 01 18:37:35 +0000 2017</td>\n",
       "      <td>@233605 are having along with your Gamertag? P...</td>\n",
       "      <td>NaN</td>\n",
       "      <td>497044.0</td>\n",
       "    </tr>\n",
       "    <tr>\n",
       "      <th>586607</th>\n",
       "      <td>2051557</td>\n",
       "      <td>606707</td>\n",
       "      <td>True</td>\n",
       "      <td>Thu Oct 05 20:30:18 +0000 2017</td>\n",
       "      <td>My iPhone keeps glitching after the new update...</td>\n",
       "      <td>2051556</td>\n",
       "      <td>NaN</td>\n",
       "      <td>2051556</td>\n",
       "      <td>AppleSupport</td>\n",
       "      <td>False</td>\n",
       "      <td>Thu Oct 05 21:28:00 +0000 2017</td>\n",
       "      <td>@606707 Let's talk. Have you updated to iOS 11...</td>\n",
       "      <td>NaN</td>\n",
       "      <td>2051557.0</td>\n",
       "    </tr>\n",
       "  </tbody>\n",
       "</table>\n",
       "</div>"
      ],
      "text/plain": [
       "        tweet_id_x author_id_x  inbound_x                    created_at_x  \\\n",
       "130277      497044      233605       True  Fri Dec 01 15:13:46 +0000 2017   \n",
       "586607     2051557      606707       True  Thu Oct 05 20:30:18 +0000 2017   \n",
       "\n",
       "                                                   text_x response_tweet_id_x  \\\n",
       "130277                     @XboxSupport hello please help       497043,497045   \n",
       "586607  My iPhone keeps glitching after the new update...             2051556   \n",
       "\n",
       "        in_response_to_tweet_id_x  tweet_id_y   author_id_y  inbound_y  \\\n",
       "130277                        NaN      497043   XboxSupport      False   \n",
       "586607                        NaN     2051556  AppleSupport      False   \n",
       "\n",
       "                          created_at_y  \\\n",
       "130277  Fri Dec 01 18:37:35 +0000 2017   \n",
       "586607  Thu Oct 05 21:28:00 +0000 2017   \n",
       "\n",
       "                                                   text_y response_tweet_id_y  \\\n",
       "130277  @233605 are having along with your Gamertag? P...                 NaN   \n",
       "586607  @606707 Let's talk. Have you updated to iOS 11...                 NaN   \n",
       "\n",
       "        in_response_to_tweet_id_y  \n",
       "130277                   497044.0  \n",
       "586607                  2051557.0  "
      ]
     },
     "execution_count": 322,
     "metadata": {},
     "output_type": "execute_result"
    }
   ],
   "source": [
    "inbounds_and_outbounds.head(2)"
   ]
  },
  {
   "cell_type": "code",
   "execution_count": 343,
   "metadata": {},
   "outputs": [],
   "source": [
    "inbound_by_brand = inbounds_and_outbounds.text_x.apply(lambda txt: re.search('(\\W@|^@)([a-zA-Z_]+)', txt).group().strip() \n",
    "                                    if re.search('(\\W@|^@)([a-zA-Z_]+)', txt) else None)"
   ]
  },
  {
   "cell_type": "code",
   "execution_count": 379,
   "metadata": {},
   "outputs": [],
   "source": [
    "tweet_count = inbound_by_brand.value_counts().head(10)"
   ]
  },
  {
   "cell_type": "code",
   "execution_count": 463,
   "metadata": {},
   "outputs": [
    {
     "data": {
      "image/png": "[encoded data removed]",
      "text/plain": [
       "<Figure size 648x288 with 1 Axes>"
      ]
     },
     "metadata": {},
     "output_type": "display_data"
    }
   ],
   "source": [
    "tweet_count.plot('barh',figsize = (9,4),fontsize = 12)\n",
    "plt.xlabel('Number of initial questions',fontsize = 15)\n",
    "plt.ylabel('Brand tweet ID',fontsize = 15)\n",
    "plt.title('Number of initial question for some big brands', fontsize = 15);"
   ]
  },
  {
   "cell_type": "markdown",
   "metadata": {},
   "source": [
    "One thing I learn comparing from the two plots is that AmazonHelp for instance doesn't have the most number of initial questions/comments, but the conversation are most active. One possible explaination is that Amazon has a wide range of different services and it is the largest online ecommerce. \n",
    "\n",
    "So I'm interested what kind of questions people ask @AmazonHelp."
   ]
  },
  {
   "cell_type": "markdown",
   "metadata": {},
   "source": [
    "# Sentiment Analysis"
   ]
  },
  {
   "cell_type": "code",
   "execution_count": 431,
   "metadata": {},
   "outputs": [],
   "source": [
    "tweet_to_amazon = tweets.text.apply(lambda txt: txt if re.search('(\\W@|^@)(@AmazonHelp)', txt) else None)\n",
    "tweet_to_amazon = tweet_to_amazon[tweet_to_amazon.notnull()]"
   ]
  },
  {
   "cell_type": "code",
   "execution_count": 439,
   "metadata": {},
   "outputs": [],
   "source": [
    "def sentiment(text):\n",
    "    Sentim_analyser = SentimentIntensityAnalyzer()\n",
    "    return Sentim_analyser.polarity_scores(text)['compound']"
   ]
  },
  {
   "cell_type": "code",
   "execution_count": 444,
   "metadata": {},
   "outputs": [],
   "source": [
    "amazon_score = tweet_to_amazon.apply(sentiment)"
   ]
  },
  {
   "cell_type": "code",
   "execution_count": 545,
   "metadata": {},
   "outputs": [
    {
     "data": {
      "image/png": "[encoded data removed]",
      "text/plain": [
       "<Figure size 648x288 with 1 Axes>"
      ]
     },
     "metadata": {},
     "output_type": "display_data"
    }
   ],
   "source": [
    "amazon_score.plot('hist',figsize = (9,4),fontsize = 12)\n",
    "plt.xlabel('Sentiment Scores',fontsize = 15)\n",
    "plt.ylabel('Number of Tweets',fontsize = 15)\n",
    "plt.title('Sentiment of Tweets to AmazonHelp', fontsize = 15);"
   ]
  },
  {
   "cell_type": "code",
   "execution_count": 497,
   "metadata": {},
   "outputs": [],
   "source": [
    "tweet_to_apple = tweets.text.apply(lambda txt: txt if re.search('(\\W@|^@)(AppleSupport)', txt) else None)\n",
    "tweet_to_apple = tweet_to_apple[tweet_to_apple.notnull()]\n",
    "apple_score = tweet_to_apple.apply(sentiment)"
   ]
  },
  {
   "cell_type": "code",
   "execution_count": 542,
   "metadata": {},
   "outputs": [
    {
     "data": {
      "text/plain": [
       "(44609, 33902)"
      ]
     },
     "execution_count": 542,
     "metadata": {},
     "output_type": "execute_result"
    }
   ],
   "source": [
    "len(amazon_score[amazon_score==0]), len(apple_score[apple_score==0])"
   ]
  },
  {
   "cell_type": "code",
   "execution_count": 556,
   "metadata": {},
   "outputs": [
    {
     "data": {
      "text/plain": [
       "182        @AmazonHelp ありがとうございます。\\n今、電話で主人が対応していただいてます。\n",
       "183    @AmazonHelp 電話で対応してもらいましたが改良されませんでした。\\n保証期間も過ぎ...\n",
       "185                        @AmazonHelp こちらこそありがとうございました。\n",
       "322    @AmazonHelp 3 different people have given 3 di...\n",
       "324    @AmazonHelp I frankly don't have the patience ...\n",
       "Name: text, dtype: object"
      ]
     },
     "execution_count": 556,
     "metadata": {},
     "output_type": "execute_result"
    }
   ],
   "source": [
    "tweet_to_amazon.head()"
   ]
  },
  {
   "cell_type": "markdown",
   "metadata": {},
   "source": [
    "As there are so many zeros, I'm suspicious that many texts are in foreign languages and thus can not be analyzed by vaderSentiment. So zeros values will be deleted in below comparison."
   ]
  },
  {
   "cell_type": "code",
   "execution_count": 541,
   "metadata": {},
   "outputs": [
    {
     "data": {
      "image/png": "[encoded data removed]",
      "text/plain": [
       "<Figure size 432x432 with 2 Axes>"
      ]
     },
     "metadata": {},
     "output_type": "display_data"
    }
   ],
   "source": [
    "fig, axes = plt.subplots(ncols=2, figsize=(6, 6), sharey=True)\n",
    "axes[0].boxplot(amazon_score[amazon_score!=0])\n",
    "axes[0].set_title('Amazon sentiment scores')\n",
    "axes[1].boxplot(apple_score[apple_score!=0])\n",
    "axes[1].set_title('Apple sentiment scores');"
   ]
  },
  {
   "cell_type": "markdown",
   "metadata": {},
   "source": [
    "AmazonHelp in overall, has lightly more positive comments than AppleSupport."
   ]
  },
  {
   "cell_type": "markdown",
   "metadata": {},
   "source": [
    "# 2. Topic Modeling methods (NMF and LDA)\n",
    "### Tokenizing tweets @AmazonHelp"
   ]
  },
  {
   "cell_type": "code",
   "execution_count": 225,
   "metadata": {},
   "outputs": [
    {
     "data": {
      "text/html": [
       "<div>\n",
       "<style scoped>\n",
       "    .dataframe tbody tr th:only-of-type {\n",
       "        vertical-align: middle;\n",
       "    }\n",
       "\n",
       "    .dataframe tbody tr th {\n",
       "        vertical-align: top;\n",
       "    }\n",
       "\n",
       "    .dataframe thead th {\n",
       "        text-align: right;\n",
       "    }\n",
       "</style>\n",
       "<table border=\"1\" class=\"dataframe\">\n",
       "  <thead>\n",
       "    <tr style=\"text-align: right;\">\n",
       "      <th></th>\n",
       "      <th>tweet_id_x</th>\n",
       "      <th>author_id_x</th>\n",
       "      <th>inbound_x</th>\n",
       "      <th>created_at_x</th>\n",
       "      <th>text_x</th>\n",
       "      <th>response_tweet_id_x</th>\n",
       "      <th>in_response_to_tweet_id_x</th>\n",
       "      <th>tweet_id_y</th>\n",
       "      <th>author_id_y</th>\n",
       "      <th>inbound_y</th>\n",
       "      <th>created_at_y</th>\n",
       "      <th>text_y</th>\n",
       "      <th>response_tweet_id_y</th>\n",
       "      <th>in_response_to_tweet_id_y</th>\n",
       "    </tr>\n",
       "  </thead>\n",
       "  <tbody>\n",
       "    <tr>\n",
       "      <th>161468</th>\n",
       "      <td>602351</td>\n",
       "      <td>156041</td>\n",
       "      <td>True</td>\n",
       "      <td>Sun Dec 03 21:39:12 +0000 2017</td>\n",
       "      <td>@AmazonHelp Hello. If I cancel an order that w...</td>\n",
       "      <td>602349</td>\n",
       "      <td>NaN</td>\n",
       "      <td>602349</td>\n",
       "      <td>AmazonHelp</td>\n",
       "      <td>False</td>\n",
       "      <td>Sun Dec 03 21:43:57 +0000 2017</td>\n",
       "      <td>@156041 Great question, Chris! All Amazon refu...</td>\n",
       "      <td>602350</td>\n",
       "      <td>602351.0</td>\n",
       "    </tr>\n",
       "    <tr>\n",
       "      <th>234724</th>\n",
       "      <td>868091</td>\n",
       "      <td>326112</td>\n",
       "      <td>True</td>\n",
       "      <td>Fri Oct 13 15:13:35 +0000 2017</td>\n",
       "      <td>@AmazonHelp why is it so hard to change my pay...</td>\n",
       "      <td>868090</td>\n",
       "      <td>NaN</td>\n",
       "      <td>868090</td>\n",
       "      <td>AmazonHelp</td>\n",
       "      <td>False</td>\n",
       "      <td>Fri Oct 13 15:20:00 +0000 2017</td>\n",
       "      <td>@326112 I'm sorry for the troubles changing th...</td>\n",
       "      <td>NaN</td>\n",
       "      <td>868091.0</td>\n",
       "    </tr>\n",
       "    <tr>\n",
       "      <th>435160</th>\n",
       "      <td>1574467</td>\n",
       "      <td>485228</td>\n",
       "      <td>True</td>\n",
       "      <td>Tue Oct 17 06:28:51 +0000 2017</td>\n",
       "      <td>@AmazonHelp my orders aren't showing up, i tri...</td>\n",
       "      <td>1574466</td>\n",
       "      <td>NaN</td>\n",
       "      <td>1574466</td>\n",
       "      <td>AmazonHelp</td>\n",
       "      <td>False</td>\n",
       "      <td>Tue Oct 17 06:31:00 +0000 2017</td>\n",
       "      <td>@485228 Sorry to hear that, do you use https:/...</td>\n",
       "      <td>1574465</td>\n",
       "      <td>1574467.0</td>\n",
       "    </tr>\n",
       "    <tr>\n",
       "      <th>828310</th>\n",
       "      <td>2834260</td>\n",
       "      <td>788980</td>\n",
       "      <td>True</td>\n",
       "      <td>Mon Nov 27 14:15:24 +0000 2017</td>\n",
       "      <td>@AmazonHelp Hey Amazon, one of your deals of t...</td>\n",
       "      <td>2834258</td>\n",
       "      <td>NaN</td>\n",
       "      <td>2834258</td>\n",
       "      <td>AmazonHelp</td>\n",
       "      <td>False</td>\n",
       "      <td>Mon Nov 27 14:22:00 +0000 2017</td>\n",
       "      <td>@788980 Hi, we don't have info as to when this...</td>\n",
       "      <td>2834259</td>\n",
       "      <td>2834260.0</td>\n",
       "    </tr>\n",
       "    <tr>\n",
       "      <th>620170</th>\n",
       "      <td>2153981</td>\n",
       "      <td>632891</td>\n",
       "      <td>True</td>\n",
       "      <td>Mon Nov 20 15:34:58 +0000 2017</td>\n",
       "      <td>@AmazonHelp you guys just keep raising the bar...</td>\n",
       "      <td>2153978</td>\n",
       "      <td>NaN</td>\n",
       "      <td>2153978</td>\n",
       "      <td>AmazonHelp</td>\n",
       "      <td>False</td>\n",
       "      <td>Mon Nov 20 16:26:00 +0000 2017</td>\n",
       "      <td>@632891 I'm sorry for any inconvenience! We're...</td>\n",
       "      <td>2153979,2153980</td>\n",
       "      <td>2153981.0</td>\n",
       "    </tr>\n",
       "  </tbody>\n",
       "</table>\n",
       "</div>"
      ],
      "text/plain": [
       "        tweet_id_x author_id_x  inbound_x                    created_at_x  \\\n",
       "161468      602351      156041       True  Sun Dec 03 21:39:12 +0000 2017   \n",
       "234724      868091      326112       True  Fri Oct 13 15:13:35 +0000 2017   \n",
       "435160     1574467      485228       True  Tue Oct 17 06:28:51 +0000 2017   \n",
       "828310     2834260      788980       True  Mon Nov 27 14:15:24 +0000 2017   \n",
       "620170     2153981      632891       True  Mon Nov 20 15:34:58 +0000 2017   \n",
       "\n",
       "                                                   text_x response_tweet_id_x  \\\n",
       "161468  @AmazonHelp Hello. If I cancel an order that w...              602349   \n",
       "234724  @AmazonHelp why is it so hard to change my pay...              868090   \n",
       "435160  @AmazonHelp my orders aren't showing up, i tri...             1574466   \n",
       "828310  @AmazonHelp Hey Amazon, one of your deals of t...             2834258   \n",
       "620170  @AmazonHelp you guys just keep raising the bar...             2153978   \n",
       "\n",
       "        in_response_to_tweet_id_x  tweet_id_y author_id_y  inbound_y  \\\n",
       "161468                        NaN      602349  AmazonHelp      False   \n",
       "234724                        NaN      868090  AmazonHelp      False   \n",
       "435160                        NaN     1574466  AmazonHelp      False   \n",
       "828310                        NaN     2834258  AmazonHelp      False   \n",
       "620170                        NaN     2153978  AmazonHelp      False   \n",
       "\n",
       "                          created_at_y  \\\n",
       "161468  Sun Dec 03 21:43:57 +0000 2017   \n",
       "234724  Fri Oct 13 15:20:00 +0000 2017   \n",
       "435160  Tue Oct 17 06:31:00 +0000 2017   \n",
       "828310  Mon Nov 27 14:22:00 +0000 2017   \n",
       "620170  Mon Nov 20 16:26:00 +0000 2017   \n",
       "\n",
       "                                                   text_y response_tweet_id_y  \\\n",
       "161468  @156041 Great question, Chris! All Amazon refu...              602350   \n",
       "234724  @326112 I'm sorry for the troubles changing th...                 NaN   \n",
       "435160  @485228 Sorry to hear that, do you use https:/...             1574465   \n",
       "828310  @788980 Hi, we don't have info as to when this...             2834259   \n",
       "620170  @632891 I'm sorry for any inconvenience! We're...     2153979,2153980   \n",
       "\n",
       "        in_response_to_tweet_id_y  \n",
       "161468                   602351.0  \n",
       "234724                   868091.0  \n",
       "435160                  1574467.0  \n",
       "828310                  2834260.0  \n",
       "620170                  2153981.0  "
      ]
     },
     "execution_count": 225,
     "metadata": {},
     "output_type": "execute_result"
    }
   ],
   "source": [
    "amazonhelp = inbounds_and_outbounds[inbounds_and_outbounds['text_x'].str.contains(\"@AmazonHelp\")]\n",
    "#amazonhelp.to_csv(\"data/amazonhelp.csv\")\n",
    "amazonhelp.head()"
   ]
  },
  {
   "cell_type": "code",
   "execution_count": 12,
   "metadata": {},
   "outputs": [],
   "source": [
    "# remove tags\n",
    "tags = re.compile('(\\W@|^@)([a-zA-Z0-9_]+)')\n",
    "x_text_amazon = amazonhelp.text_x.apply(lambda txt: tags.sub('', txt).strip())\n",
    "y_text_amazon = amazonhelp.text_y.apply(lambda txt: tags.sub('', txt).strip())"
   ]
  },
  {
   "cell_type": "code",
   "execution_count": 288,
   "metadata": {},
   "outputs": [],
   "source": [
    "def tokenize(text):\n",
    "    \"\"\"\n",
    "    Tokenize text and return a list of tokenized words found in the text. \n",
    "    Normalize to lowercase, remove stop words, drop words of length < 3.\n",
    "    \"\"\" \n",
    "    d = enchant.Dict(\"en_US\")\n",
    "    text = re.sub('https?://[A-Za-z0-9./]+','',text)\n",
    "    words = TextBlob(text).words.lower()\n",
    "    words = [re.sub('[0-9-]+','',w) for w in words if w.isalpha()]\n",
    "    words = [w for w in words if d.check(w)]\n",
    "    words = [w for w in words if len(w) > 2]\n",
    "    words = [w for w in words if w not in stop_words.ENGLISH_STOP_WORDS]\n",
    "    return words\n",
    "\n",
    "def filterEnglish(words):\n",
    "    n = len(words)\n",
    "    y = [d.check(w) for w in words]\n",
    "    if sum(y)> 0.5*n:\n",
    "        return ' '.join(words)\n",
    "    else:\n",
    "        return ''\n",
    "\n",
    "def tokenizer(text):\n",
    "    return filterEnglish(tokenize(text))"
   ]
  },
  {
   "cell_type": "code",
   "execution_count": 289,
   "metadata": {},
   "outputs": [],
   "source": [
    "tokenized_question_amazon = x_text_amazon.apply(tokenizer)"
   ]
  },
  {
   "cell_type": "markdown",
   "metadata": {},
   "source": [
    "#### Compare before and after tokenizer"
   ]
  },
  {
   "cell_type": "code",
   "execution_count": 290,
   "metadata": {},
   "outputs": [
    {
     "data": {
      "text/plain": [
       "161468    Hello. If I cancel an order that was back orde...\n",
       "234724    why is it so hard to change my payment to the ...\n",
       "435160    my orders aren't showing up, i tried logging o...\n",
       "828310    Hey Amazon, one of your deals of the day is no...\n",
       "620170    you guys just keep raising the bar. I tweet be...\n",
       "Name: text_x, dtype: object"
      ]
     },
     "execution_count": 290,
     "metadata": {},
     "output_type": "execute_result"
    }
   ],
   "source": [
    "x_text_amazon.head()"
   ]
  },
  {
   "cell_type": "code",
   "execution_count": 291,
   "metadata": {},
   "outputs": [
    {
     "data": {
      "text/plain": [
       "161468    hello cancel order ordered taken money account...\n",
       "234724        hard change payment gift card option checkout\n",
       "435160         orders showing tried logging showing worried\n",
       "828310    hey amazon deals day available purchase kindle...\n",
       "620170    guys just raising bar tweet frustrated usual s...\n",
       "Name: text_x, dtype: object"
      ]
     },
     "execution_count": 291,
     "metadata": {},
     "output_type": "execute_result"
    }
   ],
   "source": [
    "tokenized_question_amazon.head()"
   ]
  },
  {
   "cell_type": "markdown",
   "metadata": {},
   "source": [
    "### (1) Topic modeling with Non-negative matrix factorization"
   ]
  },
  {
   "cell_type": "code",
   "execution_count": 292,
   "metadata": {},
   "outputs": [],
   "source": [
    "vectorizer = text.CountVectorizer(input='content', stop_words='english',max_df = 500, min_df=10)\n",
    "dtm = vectorizer.fit_transform(tokenized_question_amazon).toarray()\n",
    "vocab = np.array(vectorizer.get_feature_names())"
   ]
  },
  {
   "cell_type": "code",
   "execution_count": 409,
   "metadata": {},
   "outputs": [
    {
     "data": {
      "text/plain": [
       "6022"
      ]
     },
     "execution_count": 409,
     "metadata": {},
     "output_type": "execute_result"
    }
   ],
   "source": [
    "vocab['return']"
   ]
  },
  {
   "cell_type": "code",
   "execution_count": 410,
   "metadata": {},
   "outputs": [
    {
     "data": {
      "text/plain": [
       "2071"
      ]
     },
     "execution_count": 410,
     "metadata": {},
     "output_type": "execute_result"
    }
   ],
   "source": [
    "vocab['delay']"
   ]
  },
  {
   "cell_type": "code",
   "execution_count": 293,
   "metadata": {},
   "outputs": [
    {
     "data": {
      "text/plain": [
       "(23142, 1786)"
      ]
     },
     "execution_count": 293,
     "metadata": {},
     "output_type": "execute_result"
    }
   ],
   "source": [
    "dtm.shape"
   ]
  },
  {
   "cell_type": "code",
   "execution_count": 294,
   "metadata": {},
   "outputs": [],
   "source": [
    "from sklearn import decomposition\n",
    "num_topics = 10\n",
    "num_top_words = 20\n",
    "nmf = decomposition.NMF(n_components=num_topics, random_state=1)\n",
    "doctopic = nmf.fit_transform(dtm)"
   ]
  },
  {
   "cell_type": "code",
   "execution_count": 295,
   "metadata": {},
   "outputs": [],
   "source": [
    "topic_words = []\n",
    "\n",
    "for topic in clf.components_:\n",
    "    word_idx = np.argsort(topic)[::-1][0:num_top_words]\n",
    "    topic_words.append([vocab[i] for i in word_idx])"
   ]
  },
  {
   "cell_type": "code",
   "execution_count": 296,
   "metadata": {},
   "outputs": [],
   "source": [
    "topics_nmf = [', '.join(words) for words in topic_words]"
   ]
  },
  {
   "cell_type": "markdown",
   "metadata": {},
   "source": [
    "### (2) Topic modeling with Latent Dirichlet allocation (LDA)"
   ]
  },
  {
   "cell_type": "code",
   "execution_count": 209,
   "metadata": {},
   "outputs": [],
   "source": [
    "from sklearn.decomposition import LatentDirichletAllocation\n",
    "\n",
    "lda = LatentDirichletAllocation(n_components=num_topics, max_iter=5, learning_method='online', \n",
    "                                learning_offset=50.,random_state=0).fit(dtm)\n"
   ]
  },
  {
   "cell_type": "code",
   "execution_count": 212,
   "metadata": {},
   "outputs": [],
   "source": [
    "topic_words_lda = []\n",
    "\n",
    "for topic in lda.components_:\n",
    "    word_idx = np.argsort(topic)[::-1][0:num_top_words]\n",
    "    topic_words_lda.append([vocab[i] for i in word_idx])\n",
    "topics_lda = [', '.join(words) for words in topic_words_lda]"
   ]
  },
  {
   "cell_type": "markdown",
   "metadata": {},
   "source": [
    "### (3) Results\n",
    "Reading the top 20 words from each topic, compare which result makes more sense."
   ]
  },
  {
   "cell_type": "code",
   "execution_count": 213,
   "metadata": {},
   "outputs": [
    {
     "name": "stdout",
     "output_type": "stream",
     "text": [
      "Topic 01: cancel, use, courier, say, hello, make, team, support, working, don, told, products, website, fix, sure, option, haven, great, locked, using\n",
      "Topic 02: number, problem, seller, ship, thank, came, possible, happy, para, stock, info, logistics, pickup, reason, packaging, broken, second, ups, open, leave\n",
      "Topic 03: address, tomorrow, pas, code, bonjour, times, pour, est, details, change, access, password, changed, coming, offer, site, thing, case, guy, attempt\n",
      "Topic 04: saying, waiting, week, orders, membership, going, placed, kindle, book, worst, come, purchase, ago, charged, showing, tried, message, happened, bad, twice\n",
      "Topic 05: supposed, late, packages, left, home, receive, door, driver, services, place, lost, person, arrive, house, unable, business, morning, idea, going, things\n",
      "Topic 06: items, said, tell, send, able, free, arrived, phone, months, paying, different, new, let, member, damaged, used, hours, purchased, replacement, music\n",
      "Topic 07: check, mail, look, die, having, stop, deliveries, plus, actually, issues, charge, stick, explain, asked, resolve, error, understand, man, doing, went\n",
      "Topic 08: response, price, pathetic, good, dispatched, mobile, people, customers, add, think, emails, track, year, set, experience, shipment, subscription, best, phone, edition\n",
      "Topic 09: date, way, contact, arrive, card, month, wait, paid, video, poor, trying, credit, guaranteed, expected, missing, sign, page, chat, company, delayed\n",
      "Topic 10: sent, wrong, bought, gift, tracking, shipped, box, buy, really, echo, update, work, disappointed, card, available, payment, care, status, fake, request\n"
     ]
    }
   ],
   "source": [
    "# LDA\n",
    "for topic_index in range(len(topics_lda)):\n",
    "    print(\"Topic %02d: %s\" % ( topic_index+1, topics_lda[topic_index] ) )"
   ]
  },
  {
   "cell_type": "code",
   "execution_count": 297,
   "metadata": {},
   "outputs": [
    {
     "name": "stdout",
     "output_type": "stream",
     "text": [
      "Topic 01: arrive, supposed, going, date, tomorrow, shipped, tracking, week, arrived, paid, ago, told, delayed, placed, dispatched, late, expected, come, till, guaranteed\n",
      "Topic 02: card, gift, credit, balance, payment, use, code, used, buy, using, purchase, details, cards, add, debit, charged, paid, hello, told, visa\n",
      "Topic 03: phone, number, new, mobile, problem, receive, using, minutes, trying, chat, spent, team, promised, calls, use, given, replacement, courier, asap, box\n",
      "Topic 04: address, wrong, sent, change, password, changed, number, correct, code, billing, send, different, tried, mail, instead, use, shipped, placed, old, business\n",
      "Topic 05: pas, est, pour, bonjour, plus, par, site, comment, mail, possible, encore, temps, normal, mes, car, aux, point, code, client, payer\n",
      "Topic 06: items, box, week, charged, missing, sent, showing, returned, shipped, paying, ago, purchased, stock, member, placed, twice, ship, damaged, different, price\n",
      "Topic 07: cancel, way, kindle, trying, buy, membership, bought, book, echo, free, use, price, option, charged, hello, new, trial, available, books, month\n",
      "Topic 08: really, left, saying, packages, door, home, box, waiting, driver, come, say, said, arrived, place, house, late, leave, courier, disappointed, came\n",
      "Topic 09: orders, late, placed, going, delayed, showing, having, problem, make, ship, page, week, deliveries, stop, paying, past, recent, year, look, issues\n",
      "Topic 10: contact, support, care, worst, seller, times, team, experience, chat, response, problem, told, contacted, courier, called, able, customers, pathetic, bad, fake\n"
     ]
    }
   ],
   "source": [
    "# NMF\n",
    "for topic_index in range(len(topics_nmf)):\n",
    "    print(\"Topic %02d: %s\" % ( topic_index+1, topics_nmf[topic_index] ) )"
   ]
  },
  {
   "cell_type": "markdown",
   "metadata": {},
   "source": [
    "A lot of topic words from LDA don't form a meaning. The result of NMF makes more sense in this case but a few topic is also talking about various things."
   ]
  },
  {
   "cell_type": "markdown",
   "metadata": {},
   "source": [
    "### (4) 10 Topics summarized from NMF method\n",
    "\n",
    "### Top 10 topics:\n",
    "1. placed order - shipping/delivery time\n",
    "2. payment method (credit/gift card)\n",
    "3. phone number (missing?)\n",
    "4. wrong address /personal information changed\n",
    "5. unknown (foreign language)\n",
    "6. received product issue (items missing, damaged, returned, etc)\n",
    "7. cancellation, kindle/membership\n",
    "8. really disappointed of service (what amazon said, packages late, etc)\n",
    "9. delay in order\n",
    "10. customer support channel"
   ]
  },
  {
   "cell_type": "markdown",
   "metadata": {},
   "source": [
    "Check out one example below"
   ]
  },
  {
   "cell_type": "code",
   "execution_count": 221,
   "metadata": {},
   "outputs": [
    {
     "name": "stdout",
     "output_type": "stream",
     "text": [
      "why is it so hard to change my payment to the gift card option at checkout?\n"
     ]
    }
   ],
   "source": [
    "print(x_text_amazon.iloc[1])"
   ]
  },
  {
   "cell_type": "code",
   "execution_count": 231,
   "metadata": {},
   "outputs": [
    {
     "name": "stdout",
     "output_type": "stream",
     "text": [
      "[0.00000000e+00 8.36907491e-01 0.00000000e+00 7.52372132e-02\n",
      " 0.00000000e+00 0.00000000e+00 5.67753568e-02 0.00000000e+00\n",
      " 4.03589777e-04 0.00000000e+00]\n",
      "This question is most related to topic 2\n"
     ]
    }
   ],
   "source": [
    "# normalize score\n",
    "doctopic = doctopic / ((np.sum(doctopic, axis=1, keepdims=True))+ 0.01)\n",
    "\n",
    "print(doctopic[1])\n",
    "print(\"This question is most related to topic %d\" %(np.argmax(doctopic[1])+1))"
   ]
  },
  {
   "cell_type": "code",
   "execution_count": 300,
   "metadata": {},
   "outputs": [
    {
     "data": {
      "text/plain": [
       "\"my orders aren't showing up, i tried logging out then back in but they're not showing up at all. im worried.\""
      ]
     },
     "execution_count": 300,
     "metadata": {},
     "output_type": "execute_result"
    }
   ],
   "source": [
    "x_text_amazon.iloc[2]"
   ]
  },
  {
   "cell_type": "code",
   "execution_count": 257,
   "metadata": {},
   "outputs": [
    {
     "name": "stdout",
     "output_type": "stream",
     "text": [
      "This question is most related to topic 9\n"
     ]
    }
   ],
   "source": [
    "print(\"This question is most related to topic %d\" %(np.argmax(doctopic[2])+1))"
   ]
  },
  {
   "cell_type": "markdown",
   "metadata": {},
   "source": [
    "# 3. Prediting a response for a user's initial question/comment (seq2seq)\n",
    "#### Not much tokenizing is done since I want to put raw texts to the model"
   ]
  },
  {
   "cell_type": "code",
   "execution_count": 372,
   "metadata": {},
   "outputs": [],
   "source": [
    "# remove @ID tags\n",
    "tags = re.compile('(\\W@|^@)([a-zA-Z0-9_]+)')\n",
    "x_text = inbounds_and_outbounds.text_x.apply(lambda txt: tags.sub('', txt).strip())\n",
    "y_text = inbounds_and_outbounds.text_y.apply(lambda txt: tags.sub('', txt).strip())"
   ]
  },
  {
   "cell_type": "code",
   "execution_count": 375,
   "metadata": {},
   "outputs": [],
   "source": [
    "# create a dictionary matching a numeric number with a word\n",
    "count_vec = CountVectorizer(tokenizer=casual_tokenize, max_features=MAX_VOCAB_SIZE - 3)\n",
    "count_vec.fit(x_text + y_text)\n",
    "analyzer = count_vec.build_analyzer()\n",
    "vocab = {k: v + 3 for k, v in count_vec.vocabulary_.items()}\n",
    "reverse_vocab = {v: k for k, v in vocab.items()}"
   ]
  },
  {
   "cell_type": "code",
   "execution_count": 363,
   "metadata": {},
   "outputs": [],
   "source": [
    "# creating sentence of equal length padded with 1 if length is shorter than 30\n",
    "def to_word_idx(sentence):\n",
    "    # from word to indices\n",
    "    full_length = [vocab.get(tok, UNK) for tok in analyzer(sentence)] + [PAD] * MAX_MESSAGE_LEN\n",
    "    return full_length[:MAX_MESSAGE_LEN]\n",
    "\n",
    "def from_word_idx(word_idxs):\n",
    "    # from indices to word\n",
    "    return ' '.join(reverse_vocab[idx] for idx in word_idxs if idx > PAD).strip()"
   ]
  },
  {
   "cell_type": "code",
   "execution_count": 11,
   "metadata": {},
   "outputs": [],
   "source": [
    "x = pd.np.vstack(x_text.apply(to_word_idx).values)\n",
    "y = pd.np.vstack(y_text.apply(to_word_idx).values)"
   ]
  },
  {
   "cell_type": "code",
   "execution_count": 12,
   "metadata": {},
   "outputs": [
    {
     "name": "stdout",
     "output_type": "stream",
     "text": [
      "Training data of shape (635439, 30) and test data of shape (158860, 30).\n"
     ]
    }
   ],
   "source": [
    "# Use simple random split of data - may cause class imbalance!\n",
    "all_idx = list(range(len(x)))\n",
    "train_idx = set(random.sample(all_idx, int(0.8 * len(all_idx))))\n",
    "test_idx = {idx for idx in all_idx if idx not in train_idx}\n",
    "\n",
    "train_x = x[list(train_idx)]\n",
    "test_x = x[list(test_idx)]\n",
    "train_y = y[list(train_idx)]\n",
    "test_y = y[list(test_idx)]\n",
    "\n",
    "print(f'Training data of shape {train_x.shape} and test data of shape {test_x.shape}.')"
   ]
  },
  {
   "cell_type": "markdown",
   "metadata": {},
   "source": [
    "### Save all data that needed to train the model and upload to AWS if you want to run on AWS."
   ]
  },
  {
   "cell_type": "code",
   "execution_count": 13,
   "metadata": {},
   "outputs": [],
   "source": [
    "np.save(\"/data/train_x\", train_x)\n",
    "np.save(\"/data/test_x\", test_x)\n",
    "np.save(\"/data/train_y\", train_y)\n",
    "np.save(\"/data/test_y\", test_y)"
   ]
  },
  {
   "cell_type": "code",
   "execution_count": 349,
   "metadata": {},
   "outputs": [],
   "source": [
    "train_x = np.load('data/train_x.npy')\n",
    "train_y = np.load('data/train_y.npy')\n",
    "test_x = np.load('data/test_x.npy')\n",
    "test_y = np.load('data/test_y.npy')\n",
    "\n",
    "x_text = np.load(\"data/x_text.npy\")\n",
    "y_text = np.load(\"data/y_text.npy\")\n",
    "\n",
    "reverse_vocab = np.load('data/reverse_vocab.npy').item()"
   ]
  },
  {
   "cell_type": "markdown",
   "metadata": {},
   "source": [
    "### Model Creation"
   ]
  },
  {
   "cell_type": "code",
   "execution_count": 367,
   "metadata": {},
   "outputs": [],
   "source": [
    "MAX_VOCAB_SIZE = 2**13\n",
    "MAX_MESSAGE_LEN = 30\n",
    "UNK = 0\n",
    "PAD = 1\n",
    "START = 2\n",
    "EMBEDDING_SIZE = 100\n",
    "CONTEXT_SIZE = 100\n",
    "BATCH_SIZE = 1\n",
    "DROPOUT = 0.2\n",
    "LEARNING_RATE=0.005"
   ]
  },
  {
   "cell_type": "code",
   "execution_count": 365,
   "metadata": {},
   "outputs": [],
   "source": [
    "from keras.models import Model, load_model\n",
    "from keras.optimizers import Adam\n",
    "from keras.layers import Dense, Input, GRU, Dropout, Embedding, RepeatVector, concatenate, \\\n",
    "    TimeDistributed\n",
    "from keras.utils import np_utils"
   ]
  },
  {
   "cell_type": "code",
   "execution_count": 368,
   "metadata": {},
   "outputs": [],
   "source": [
    "def create_model():\n",
    "    shared_embedding = Embedding(\n",
    "        output_dim=EMBEDDING_SIZE,\n",
    "        input_dim=MAX_VOCAB_SIZE,\n",
    "        input_length=MAX_MESSAGE_LEN,\n",
    "        name='embedding',\n",
    "    )\n",
    "    \n",
    "    # ENCODER\n",
    "    \n",
    "    encoder_input = Input(\n",
    "        shape=(MAX_MESSAGE_LEN,),\n",
    "        dtype='int32',\n",
    "        name='encoder_input',\n",
    "    )\n",
    "    \n",
    "    embedded_input = shared_embedding(encoder_input)\n",
    "    \n",
    "    encoder_rnn = GRU(\n",
    "        CONTEXT_SIZE,\n",
    "        name='encoder',\n",
    "        dropout=DROPOUT\n",
    "    )\n",
    "    \n",
    "    context = RepeatVector(MAX_MESSAGE_LEN)(encoder_rnn(embedded_input))\n",
    "    \n",
    "    # DECODER\n",
    "    \n",
    "    last_word_input = Input(\n",
    "        shape=(MAX_MESSAGE_LEN, ),\n",
    "        dtype='int32',\n",
    "        name='last_word_input',\n",
    "    )\n",
    "    \n",
    "    embedded_last_word = shared_embedding(last_word_input)\n",
    "    decoder_input = concatenate([embedded_last_word, context], axis=2)\n",
    "    \n",
    "    decoder_rnn = GRU(\n",
    "        CONTEXT_SIZE,\n",
    "        name='decoder',\n",
    "        return_sequences=True,\n",
    "        dropout=DROPOUT\n",
    "    )\n",
    "    \n",
    "    decoder_output = decoder_rnn(decoder_input)\n",
    "    \n",
    "    next_word_dense = TimeDistributed(\n",
    "        Dense(int(MAX_VOCAB_SIZE / 2), activation='relu'),\n",
    "        name='next_word_dense',\n",
    "    )(decoder_output)\n",
    "    \n",
    "    next_word = TimeDistributed(\n",
    "        Dense(MAX_VOCAB_SIZE, activation='softmax'),\n",
    "        name='next_word_softmax'\n",
    "    )(next_word_dense)\n",
    "    \n",
    "    return Model(inputs=[encoder_input, last_word_input], outputs=[next_word])\n",
    "\n",
    "s2s_model = create_model()\n",
    "optimizer = Adam(lr=LEARNING_RATE, clipvalue=5.0)\n",
    "s2s_model.compile(optimizer='adam', loss='categorical_crossentropy')"
   ]
  },
  {
   "cell_type": "markdown",
   "metadata": {},
   "source": [
    "### Model training"
   ]
  },
  {
   "cell_type": "code",
   "execution_count": 369,
   "metadata": {},
   "outputs": [],
   "source": [
    "def add_start_token(y_array):\n",
    "    return np.hstack([\n",
    "        START * np.ones((len(y_array), 1)),\n",
    "        y_array[:, :-1],\n",
    "    ])\n",
    "\n",
    "def binarize_labels(labels):\n",
    "    return np.array([np_utils.to_categorical(row, num_classes=MAX_VOCAB_SIZE)\n",
    "                     for row in labels])\n",
    "\n",
    "def respond_to(model, text):\n",
    "    input_y = add_start_token(PAD * np.ones((1, MAX_MESSAGE_LEN)))\n",
    "    idxs = np.array(to_word_idx(text)).reshape((1, MAX_MESSAGE_LEN))\n",
    "    for position in range(MAX_MESSAGE_LEN - 1):\n",
    "        prediction = model.predict([idxs, input_y]).argmax(axis=2)[0]\n",
    "        input_y[:,position + 1] = prediction[position]\n",
    "    return from_word_idx(model.predict([idxs, input_y]).argmax(axis=2)[0])"
   ]
  },
  {
   "cell_type": "code",
   "execution_count": 370,
   "metadata": {},
   "outputs": [],
   "source": [
    "def train_mini_epoch(model, start_idx, end_idx):\n",
    "    \"\"\" Batching seems necessary in Kaggle Jupyter Notebook environments, since\n",
    "        `model.fit` seems to freeze on larger batches (somewhere 1k-10k).\n",
    "    \"\"\"\n",
    "    b_train_y = binarize_labels(train_y[start_idx:end_idx])\n",
    "    input_train_y = add_start_token(train_y[start_idx:end_idx])\n",
    "    \n",
    "    model.fit(\n",
    "        [train_x[start_idx:end_idx], input_train_y], \n",
    "        b_train_y,\n",
    "        epochs=1,\n",
    "        batch_size=BATCH_SIZE,\n",
    "    )\n",
    "    \n",
    "    rand_idx = random.sample(list(range(len(test_x))), SUB_BATCH_SIZE)\n",
    "    print('Test results:', model.evaluate(\n",
    "        [test_x[rand_idx], add_start_token(test_y[rand_idx])],\n",
    "        binarize_labels(test_y[rand_idx])\n",
    "    ))"
   ]
  },
  {
   "cell_type": "markdown",
   "metadata": {},
   "source": [
    "### The model takes a while to run. I ran it in AWS and saved the model when done"
   ]
  },
  {
   "cell_type": "code",
   "execution_count": 554,
   "metadata": {},
   "outputs": [],
   "source": [
    "'''\n",
    "SUB_BATCH_SIZE = 10000\n",
    "print(f'Training in epoch 1')\n",
    "start_index = 0\n",
    "train_mini_epoch(s2s_model, start_index, start_index + SUB_BATCH_SIZE)\n",
    "s2s_model.save('s2s_model.h5')\n",
    "'''\n",
    "s2s_model1 = load_model('s2s_model1.h5')"
   ]
  },
  {
   "cell_type": "markdown",
   "metadata": {},
   "source": [
    "### Model prediction - one example"
   ]
  },
  {
   "cell_type": "code",
   "execution_count": 403,
   "metadata": {},
   "outputs": [
    {
     "name": "stdout",
     "output_type": "stream",
     "text": [
      "Question\n"
     ]
    },
    {
     "data": {
      "text/plain": [
       "'Item has not been delivered but tracking says it was handed to me over an hour ago... 2nd time this has happened. Sort it out https://t.co/42W82GcARk'"
      ]
     },
     "execution_count": 403,
     "metadata": {},
     "output_type": "execute_result"
    }
   ],
   "source": [
    "print(\"Question\")\n",
    "x_text[100]"
   ]
  },
  {
   "cell_type": "code",
   "execution_count": 404,
   "metadata": {},
   "outputs": [
    {
     "name": "stdout",
     "output_type": "stream",
     "text": [
      "Predicted response from sequence to sequence model\n"
     ]
    },
    {
     "data": {
      "text/plain": [
       "'hi there , we are here to help . send us a note here ; and our team will follow up .'"
      ]
     },
     "execution_count": 404,
     "metadata": {},
     "output_type": "execute_result"
    }
   ],
   "source": [
    "# Fitted on 10,000 tweets\n",
    "print('Predicted response from sequence to sequence model')\n",
    "respond_to(s2s_model1, x_text[100])"
   ]
  },
  {
   "cell_type": "code",
   "execution_count": 553,
   "metadata": {},
   "outputs": [
    {
     "name": "stdout",
     "output_type": "stream",
     "text": [
      "Predicted response from sequence to sequence model\n"
     ]
    },
    {
     "data": {
      "text/plain": [
       "\"hi there , i'm sorry to hear this . please dm us your email address and we'll be happy to help . ^ mm https://t.co/cooxeduuuc\""
      ]
     },
     "execution_count": 553,
     "metadata": {},
     "output_type": "execute_result"
    }
   ],
   "source": [
    "# Fitted on 30,000 tweets\n",
    "print('Predicted response from sequence to sequence model')\n",
    "respond_to(s2s_model3, x_text[100])"
   ]
  },
  {
   "cell_type": "code",
   "execution_count": 405,
   "metadata": {},
   "outputs": [
    {
     "name": "stdout",
     "output_type": "stream",
     "text": [
      "Actual response\n"
     ]
    },
    {
     "data": {
      "text/plain": [
       "\"I'm so sorry you didn't receive your parcel! We'd like a chance to look into this with you here: https://t.co/JzP7hlA23B ^SY\""
      ]
     },
     "execution_count": 405,
     "metadata": {},
     "output_type": "execute_result"
    }
   ],
   "source": [
    "print('Actual response')\n",
    "y_text[100]"
   ]
  }
 ],
 "metadata": {
  "kernelspec": {
   "display_name": "Python 3",
   "language": "python",
   "name": "python3"
  },
  "language_info": {
   "codemirror_mode": {
    "name": "ipython",
    "version": 3
   },
   "file_extension": ".py",
   "mimetype": "text/x-python",
   "name": "python",
   "nbconvert_exporter": "python",
   "pygments_lexer": "ipython3",
   "version": "3.6.5"
  }
 },
 "nbformat": 4,
 "nbformat_minor": 2
}
